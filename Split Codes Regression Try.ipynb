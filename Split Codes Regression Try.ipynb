{
 "cells": [
  {
   "cell_type": "code",
   "execution_count": 4,
   "metadata": {},
   "outputs": [],
   "source": [
    "import pandas as pd\n",
    "import numpy as np\n",
    "pd.set_option('display.max_rows', 500)\n",
    "pd.set_option('display.max_columns', 500)"
   ]
  },
  {
   "cell_type": "code",
   "execution_count": 2,
   "metadata": {},
   "outputs": [],
   "source": [
    "df = pd.read_excel(r'FEP311 Output Shangai.xlsx', sheet_name = 'Data')"
   ]
  },
  {
   "cell_type": "code",
   "execution_count": 3,
   "metadata": {},
   "outputs": [
    {
     "data": {
      "text/plain": [
       "(2190, 33)"
      ]
     },
     "execution_count": 3,
     "metadata": {},
     "output_type": "execute_result"
    }
   ],
   "source": [
    "df.shape"
   ]
  },
  {
   "cell_type": "code",
   "execution_count": 5,
   "metadata": {},
   "outputs": [
    {
     "data": {
      "text/html": [
       "<div>\n",
       "<style scoped>\n",
       "    .dataframe tbody tr th:only-of-type {\n",
       "        vertical-align: middle;\n",
       "    }\n",
       "\n",
       "    .dataframe tbody tr th {\n",
       "        vertical-align: top;\n",
       "    }\n",
       "\n",
       "    .dataframe thead th {\n",
       "        text-align: right;\n",
       "    }\n",
       "</style>\n",
       "<table border=\"1\" class=\"dataframe\">\n",
       "  <thead>\n",
       "    <tr style=\"text-align: right;\">\n",
       "      <th></th>\n",
       "      <th>SKU Code</th>\n",
       "      <th>Validity</th>\n",
       "      <th>Product Code</th>\n",
       "      <th>CH/FE/DIAM</th>\n",
       "      <th>CH/FE/LINER/MAT</th>\n",
       "      <th>CH/FE/ELEC/DES</th>\n",
       "      <th>CH/FE/ELEC/MAT</th>\n",
       "      <th>CH/FE/GND/ACC</th>\n",
       "      <th>CH/FE/PROC/CONN/TYPE</th>\n",
       "      <th>CH/FE/PROC/CONN/MAT</th>\n",
       "      <th>CH/FE/USE/CERT</th>\n",
       "      <th>CH/FE/CAL/TYPE</th>\n",
       "      <th>CH/FE/TEMP/RNG</th>\n",
       "      <th>CH/FE/DEV/ID/PLATE</th>\n",
       "      <th>CH/FE/SIGN/CBL</th>\n",
       "      <th>CH/FE/EX/CERT</th>\n",
       "      <th>CH/FE/PROT/CLASS</th>\n",
       "      <th>CH/FE/CBL/COND</th>\n",
       "      <th>CH/FE/POWER</th>\n",
       "      <th>CH/FE/IN/OUT/SIGN</th>\n",
       "      <th>CH/FE/CONF/DIAG/TYPE</th>\n",
       "      <th>CH/FEP311/DES/LEV</th>\n",
       "      <th>CH/FE/ACC</th>\n",
       "      <th>CH/FE/CONN</th>\n",
       "      <th>CH/FE/HOUSING/TYPE</th>\n",
       "      <th>CH/FE/LAID/LENGTH</th>\n",
       "      <th>CH/FE/CER/03</th>\n",
       "      <th>CH/FE/POINTS</th>\n",
       "      <th>CH/FE/DOC/LANG</th>\n",
       "      <th>CH/FE/SHIPS/REG/CERT</th>\n",
       "      <th>CH/FE/CERT/SIL</th>\n",
       "      <th>Reference Price (USD)</th>\n",
       "      <th>PMU Revenue (USD)/Unit</th>\n",
       "    </tr>\n",
       "  </thead>\n",
       "  <tbody>\n",
       "    <tr>\n",
       "      <th>0</th>\n",
       "      <td>FEP311500H1D2D1B1K1A0A1A4C1BH1M5CL5</td>\n",
       "      <td>Valid Code</td>\n",
       "      <td>FEP311</td>\n",
       "      <td>500</td>\n",
       "      <td>H</td>\n",
       "      <td>1</td>\n",
       "      <td>D</td>\n",
       "      <td>2</td>\n",
       "      <td>D1</td>\n",
       "      <td>B</td>\n",
       "      <td>1</td>\n",
       "      <td>K</td>\n",
       "      <td>1</td>\n",
       "      <td>A</td>\n",
       "      <td>0</td>\n",
       "      <td>A</td>\n",
       "      <td>1</td>\n",
       "      <td>A</td>\n",
       "      <td>4</td>\n",
       "      <td>C</td>\n",
       "      <td>1</td>\n",
       "      <td>B</td>\n",
       "      <td>NaN</td>\n",
       "      <td>NaN</td>\n",
       "      <td>H1</td>\n",
       "      <td>NaN</td>\n",
       "      <td>NaN</td>\n",
       "      <td>NaN</td>\n",
       "      <td>M5</td>\n",
       "      <td>CL5</td>\n",
       "      <td>NaN</td>\n",
       "      <td>16257.235952</td>\n",
       "      <td>4692.3885</td>\n",
       "    </tr>\n",
       "    <tr>\n",
       "      <th>1</th>\n",
       "      <td>FEP311350H1D2D1B1K1A0A1A4C1BH1M5CL5</td>\n",
       "      <td>Valid Code</td>\n",
       "      <td>FEP311</td>\n",
       "      <td>350</td>\n",
       "      <td>H</td>\n",
       "      <td>1</td>\n",
       "      <td>D</td>\n",
       "      <td>2</td>\n",
       "      <td>D1</td>\n",
       "      <td>B</td>\n",
       "      <td>1</td>\n",
       "      <td>K</td>\n",
       "      <td>1</td>\n",
       "      <td>A</td>\n",
       "      <td>0</td>\n",
       "      <td>A</td>\n",
       "      <td>1</td>\n",
       "      <td>A</td>\n",
       "      <td>4</td>\n",
       "      <td>C</td>\n",
       "      <td>1</td>\n",
       "      <td>B</td>\n",
       "      <td>NaN</td>\n",
       "      <td>NaN</td>\n",
       "      <td>H1</td>\n",
       "      <td>NaN</td>\n",
       "      <td>NaN</td>\n",
       "      <td>NaN</td>\n",
       "      <td>M5</td>\n",
       "      <td>CL5</td>\n",
       "      <td>NaN</td>\n",
       "      <td>12623.081822</td>\n",
       "      <td>3231.5580</td>\n",
       "    </tr>\n",
       "    <tr>\n",
       "      <th>2</th>\n",
       "      <td>FEP311350H1D2D1B1K1A0A1A4C1BH1M5CL5</td>\n",
       "      <td>Valid Code</td>\n",
       "      <td>FEP311</td>\n",
       "      <td>350</td>\n",
       "      <td>H</td>\n",
       "      <td>1</td>\n",
       "      <td>D</td>\n",
       "      <td>2</td>\n",
       "      <td>D1</td>\n",
       "      <td>B</td>\n",
       "      <td>1</td>\n",
       "      <td>K</td>\n",
       "      <td>1</td>\n",
       "      <td>A</td>\n",
       "      <td>0</td>\n",
       "      <td>A</td>\n",
       "      <td>1</td>\n",
       "      <td>A</td>\n",
       "      <td>4</td>\n",
       "      <td>C</td>\n",
       "      <td>1</td>\n",
       "      <td>B</td>\n",
       "      <td>NaN</td>\n",
       "      <td>NaN</td>\n",
       "      <td>H1</td>\n",
       "      <td>NaN</td>\n",
       "      <td>NaN</td>\n",
       "      <td>NaN</td>\n",
       "      <td>M5</td>\n",
       "      <td>CL5</td>\n",
       "      <td>NaN</td>\n",
       "      <td>12623.081822</td>\n",
       "      <td>3216.5290</td>\n",
       "    </tr>\n",
       "    <tr>\n",
       "      <th>3</th>\n",
       "      <td>FEP311200H1D2D1B1K1A0A1A4C1BH1M5CL5</td>\n",
       "      <td>Valid Code</td>\n",
       "      <td>FEP311</td>\n",
       "      <td>200</td>\n",
       "      <td>H</td>\n",
       "      <td>1</td>\n",
       "      <td>D</td>\n",
       "      <td>2</td>\n",
       "      <td>D1</td>\n",
       "      <td>B</td>\n",
       "      <td>1</td>\n",
       "      <td>K</td>\n",
       "      <td>1</td>\n",
       "      <td>A</td>\n",
       "      <td>0</td>\n",
       "      <td>A</td>\n",
       "      <td>1</td>\n",
       "      <td>A</td>\n",
       "      <td>4</td>\n",
       "      <td>C</td>\n",
       "      <td>1</td>\n",
       "      <td>B</td>\n",
       "      <td>NaN</td>\n",
       "      <td>NaN</td>\n",
       "      <td>H1</td>\n",
       "      <td>NaN</td>\n",
       "      <td>NaN</td>\n",
       "      <td>NaN</td>\n",
       "      <td>M5</td>\n",
       "      <td>CL5</td>\n",
       "      <td>NaN</td>\n",
       "      <td>6437.977907</td>\n",
       "      <td>1707.4030</td>\n",
       "    </tr>\n",
       "    <tr>\n",
       "      <th>4</th>\n",
       "      <td>FEP311500H1D2D1B1K1A0A1A4C1BH1M5CL5</td>\n",
       "      <td>Valid Code</td>\n",
       "      <td>FEP311</td>\n",
       "      <td>500</td>\n",
       "      <td>H</td>\n",
       "      <td>1</td>\n",
       "      <td>D</td>\n",
       "      <td>2</td>\n",
       "      <td>D1</td>\n",
       "      <td>B</td>\n",
       "      <td>1</td>\n",
       "      <td>K</td>\n",
       "      <td>1</td>\n",
       "      <td>A</td>\n",
       "      <td>0</td>\n",
       "      <td>A</td>\n",
       "      <td>1</td>\n",
       "      <td>A</td>\n",
       "      <td>4</td>\n",
       "      <td>C</td>\n",
       "      <td>1</td>\n",
       "      <td>B</td>\n",
       "      <td>NaN</td>\n",
       "      <td>NaN</td>\n",
       "      <td>H1</td>\n",
       "      <td>NaN</td>\n",
       "      <td>NaN</td>\n",
       "      <td>NaN</td>\n",
       "      <td>M5</td>\n",
       "      <td>CL5</td>\n",
       "      <td>NaN</td>\n",
       "      <td>16257.235952</td>\n",
       "      <td>4624.0730</td>\n",
       "    </tr>\n",
       "  </tbody>\n",
       "</table>\n",
       "</div>"
      ],
      "text/plain": [
       "                              SKU Code    Validity Product Code  CH/FE/DIAM  \\\n",
       "0  FEP311500H1D2D1B1K1A0A1A4C1BH1M5CL5  Valid Code       FEP311         500   \n",
       "1  FEP311350H1D2D1B1K1A0A1A4C1BH1M5CL5  Valid Code       FEP311         350   \n",
       "2  FEP311350H1D2D1B1K1A0A1A4C1BH1M5CL5  Valid Code       FEP311         350   \n",
       "3  FEP311200H1D2D1B1K1A0A1A4C1BH1M5CL5  Valid Code       FEP311         200   \n",
       "4  FEP311500H1D2D1B1K1A0A1A4C1BH1M5CL5  Valid Code       FEP311         500   \n",
       "\n",
       "  CH/FE/LINER/MAT  CH/FE/ELEC/DES CH/FE/ELEC/MAT  CH/FE/GND/ACC  \\\n",
       "0               H               1              D              2   \n",
       "1               H               1              D              2   \n",
       "2               H               1              D              2   \n",
       "3               H               1              D              2   \n",
       "4               H               1              D              2   \n",
       "\n",
       "  CH/FE/PROC/CONN/TYPE CH/FE/PROC/CONN/MAT  CH/FE/USE/CERT CH/FE/CAL/TYPE  \\\n",
       "0                   D1                   B               1              K   \n",
       "1                   D1                   B               1              K   \n",
       "2                   D1                   B               1              K   \n",
       "3                   D1                   B               1              K   \n",
       "4                   D1                   B               1              K   \n",
       "\n",
       "   CH/FE/TEMP/RNG CH/FE/DEV/ID/PLATE  CH/FE/SIGN/CBL CH/FE/EX/CERT  \\\n",
       "0               1                  A               0             A   \n",
       "1               1                  A               0             A   \n",
       "2               1                  A               0             A   \n",
       "3               1                  A               0             A   \n",
       "4               1                  A               0             A   \n",
       "\n",
       "   CH/FE/PROT/CLASS CH/FE/CBL/COND  CH/FE/POWER CH/FE/IN/OUT/SIGN  \\\n",
       "0                 1              A            4                 C   \n",
       "1                 1              A            4                 C   \n",
       "2                 1              A            4                 C   \n",
       "3                 1              A            4                 C   \n",
       "4                 1              A            4                 C   \n",
       "\n",
       "   CH/FE/CONF/DIAG/TYPE CH/FEP311/DES/LEV CH/FE/ACC  CH/FE/CONN  \\\n",
       "0                     1                 B       NaN         NaN   \n",
       "1                     1                 B       NaN         NaN   \n",
       "2                     1                 B       NaN         NaN   \n",
       "3                     1                 B       NaN         NaN   \n",
       "4                     1                 B       NaN         NaN   \n",
       "\n",
       "  CH/FE/HOUSING/TYPE  CH/FE/LAID/LENGTH  CH/FE/CER/03 CH/FE/POINTS  \\\n",
       "0                 H1                NaN           NaN          NaN   \n",
       "1                 H1                NaN           NaN          NaN   \n",
       "2                 H1                NaN           NaN          NaN   \n",
       "3                 H1                NaN           NaN          NaN   \n",
       "4                 H1                NaN           NaN          NaN   \n",
       "\n",
       "  CH/FE/DOC/LANG CH/FE/SHIPS/REG/CERT  CH/FE/CERT/SIL  Reference Price (USD)  \\\n",
       "0             M5                  CL5             NaN           16257.235952   \n",
       "1             M5                  CL5             NaN           12623.081822   \n",
       "2             M5                  CL5             NaN           12623.081822   \n",
       "3             M5                  CL5             NaN            6437.977907   \n",
       "4             M5                  CL5             NaN           16257.235952   \n",
       "\n",
       "   PMU Revenue (USD)/Unit  \n",
       "0               4692.3885  \n",
       "1               3231.5580  \n",
       "2               3216.5290  \n",
       "3               1707.4030  \n",
       "4               4624.0730  "
      ]
     },
     "execution_count": 5,
     "metadata": {},
     "output_type": "execute_result"
    }
   ],
   "source": [
    "df.head()"
   ]
  },
  {
   "cell_type": "code",
   "execution_count": 21,
   "metadata": {},
   "outputs": [],
   "source": [
    "X = df[df.columns[list(df.columns).index('CH/FE/DIAM'):list(df.columns).index('CH/FEP311/DES/LEV')+1]]\n",
    "y = df['PMU Revenue (USD)/Unit']"
   ]
  },
  {
   "cell_type": "code",
   "execution_count": 24,
   "metadata": {},
   "outputs": [
    {
     "data": {
      "text/plain": [
       "(2190, 19)"
      ]
     },
     "execution_count": 24,
     "metadata": {},
     "output_type": "execute_result"
    }
   ],
   "source": [
    "X.shape"
   ]
  },
  {
   "cell_type": "code",
   "execution_count": 25,
   "metadata": {},
   "outputs": [
    {
     "data": {
      "text/plain": [
       "(2190,)"
      ]
     },
     "execution_count": 25,
     "metadata": {},
     "output_type": "execute_result"
    }
   ],
   "source": [
    "y.shape"
   ]
  },
  {
   "cell_type": "code",
   "execution_count": 26,
   "metadata": {},
   "outputs": [],
   "source": [
    "from sklearn.model_selection import train_test_split"
   ]
  },
  {
   "cell_type": "code",
   "execution_count": 31,
   "metadata": {},
   "outputs": [],
   "source": [
    "X_train, X_test, y_train, y_test = train_test_split(X, y, test_size=0.3, random_state=101)"
   ]
  },
  {
   "cell_type": "code",
   "execution_count": 32,
   "metadata": {},
   "outputs": [],
   "source": [
    "from sklearn.linear_model import LinearRegression"
   ]
  },
  {
   "cell_type": "code",
   "execution_count": 33,
   "metadata": {},
   "outputs": [],
   "source": [
    "lm = LinearRegression()"
   ]
  },
  {
   "cell_type": "code",
   "execution_count": 34,
   "metadata": {},
   "outputs": [
    {
     "ename": "ValueError",
     "evalue": "could not convert string to float: 'A'",
     "output_type": "error",
     "traceback": [
      "\u001b[1;31m---------------------------------------------------------------------------\u001b[0m",
      "\u001b[1;31mValueError\u001b[0m                                Traceback (most recent call last)",
      "\u001b[1;32m<ipython-input-34-3930ea67a7b1>\u001b[0m in \u001b[0;36m<module>\u001b[1;34m\u001b[0m\n\u001b[1;32m----> 1\u001b[1;33m \u001b[0mlm\u001b[0m\u001b[1;33m.\u001b[0m\u001b[0mfit\u001b[0m\u001b[1;33m(\u001b[0m\u001b[0mX_train\u001b[0m\u001b[1;33m,\u001b[0m\u001b[0my_train\u001b[0m\u001b[1;33m)\u001b[0m\u001b[1;33m\u001b[0m\u001b[1;33m\u001b[0m\u001b[0m\n\u001b[0m",
      "\u001b[1;32mC:\\Program Files\\Anaconda3\\lib\\site-packages\\sklearn\\linear_model\\_base.py\u001b[0m in \u001b[0;36mfit\u001b[1;34m(self, X, y, sample_weight)\u001b[0m\n\u001b[0;32m    490\u001b[0m         \u001b[0mn_jobs_\u001b[0m \u001b[1;33m=\u001b[0m \u001b[0mself\u001b[0m\u001b[1;33m.\u001b[0m\u001b[0mn_jobs\u001b[0m\u001b[1;33m\u001b[0m\u001b[1;33m\u001b[0m\u001b[0m\n\u001b[0;32m    491\u001b[0m         X, y = check_X_y(X, y, accept_sparse=['csr', 'csc', 'coo'],\n\u001b[1;32m--> 492\u001b[1;33m                          y_numeric=True, multi_output=True)\n\u001b[0m\u001b[0;32m    493\u001b[0m \u001b[1;33m\u001b[0m\u001b[0m\n\u001b[0;32m    494\u001b[0m         \u001b[1;32mif\u001b[0m \u001b[0msample_weight\u001b[0m \u001b[1;32mis\u001b[0m \u001b[1;32mnot\u001b[0m \u001b[1;32mNone\u001b[0m\u001b[1;33m:\u001b[0m\u001b[1;33m\u001b[0m\u001b[1;33m\u001b[0m\u001b[0m\n",
      "\u001b[1;32mC:\\Program Files\\Anaconda3\\lib\\site-packages\\sklearn\\utils\\validation.py\u001b[0m in \u001b[0;36mcheck_X_y\u001b[1;34m(X, y, accept_sparse, accept_large_sparse, dtype, order, copy, force_all_finite, ensure_2d, allow_nd, multi_output, ensure_min_samples, ensure_min_features, y_numeric, warn_on_dtype, estimator)\u001b[0m\n\u001b[0;32m    753\u001b[0m                     \u001b[0mensure_min_features\u001b[0m\u001b[1;33m=\u001b[0m\u001b[0mensure_min_features\u001b[0m\u001b[1;33m,\u001b[0m\u001b[1;33m\u001b[0m\u001b[1;33m\u001b[0m\u001b[0m\n\u001b[0;32m    754\u001b[0m                     \u001b[0mwarn_on_dtype\u001b[0m\u001b[1;33m=\u001b[0m\u001b[0mwarn_on_dtype\u001b[0m\u001b[1;33m,\u001b[0m\u001b[1;33m\u001b[0m\u001b[1;33m\u001b[0m\u001b[0m\n\u001b[1;32m--> 755\u001b[1;33m                     estimator=estimator)\n\u001b[0m\u001b[0;32m    756\u001b[0m     \u001b[1;32mif\u001b[0m \u001b[0mmulti_output\u001b[0m\u001b[1;33m:\u001b[0m\u001b[1;33m\u001b[0m\u001b[1;33m\u001b[0m\u001b[0m\n\u001b[0;32m    757\u001b[0m         y = check_array(y, 'csr', force_all_finite=True, ensure_2d=False,\n",
      "\u001b[1;32mC:\\Program Files\\Anaconda3\\lib\\site-packages\\sklearn\\utils\\validation.py\u001b[0m in \u001b[0;36mcheck_array\u001b[1;34m(array, accept_sparse, accept_large_sparse, dtype, order, copy, force_all_finite, ensure_2d, allow_nd, ensure_min_samples, ensure_min_features, warn_on_dtype, estimator)\u001b[0m\n\u001b[0;32m    529\u001b[0m                     \u001b[0marray\u001b[0m \u001b[1;33m=\u001b[0m \u001b[0marray\u001b[0m\u001b[1;33m.\u001b[0m\u001b[0mastype\u001b[0m\u001b[1;33m(\u001b[0m\u001b[0mdtype\u001b[0m\u001b[1;33m,\u001b[0m \u001b[0mcasting\u001b[0m\u001b[1;33m=\u001b[0m\u001b[1;34m\"unsafe\"\u001b[0m\u001b[1;33m,\u001b[0m \u001b[0mcopy\u001b[0m\u001b[1;33m=\u001b[0m\u001b[1;32mFalse\u001b[0m\u001b[1;33m)\u001b[0m\u001b[1;33m\u001b[0m\u001b[1;33m\u001b[0m\u001b[0m\n\u001b[0;32m    530\u001b[0m                 \u001b[1;32melse\u001b[0m\u001b[1;33m:\u001b[0m\u001b[1;33m\u001b[0m\u001b[1;33m\u001b[0m\u001b[0m\n\u001b[1;32m--> 531\u001b[1;33m                     \u001b[0marray\u001b[0m \u001b[1;33m=\u001b[0m \u001b[0mnp\u001b[0m\u001b[1;33m.\u001b[0m\u001b[0masarray\u001b[0m\u001b[1;33m(\u001b[0m\u001b[0marray\u001b[0m\u001b[1;33m,\u001b[0m \u001b[0morder\u001b[0m\u001b[1;33m=\u001b[0m\u001b[0morder\u001b[0m\u001b[1;33m,\u001b[0m \u001b[0mdtype\u001b[0m\u001b[1;33m=\u001b[0m\u001b[0mdtype\u001b[0m\u001b[1;33m)\u001b[0m\u001b[1;33m\u001b[0m\u001b[1;33m\u001b[0m\u001b[0m\n\u001b[0m\u001b[0;32m    532\u001b[0m             \u001b[1;32mexcept\u001b[0m \u001b[0mComplexWarning\u001b[0m\u001b[1;33m:\u001b[0m\u001b[1;33m\u001b[0m\u001b[1;33m\u001b[0m\u001b[0m\n\u001b[0;32m    533\u001b[0m                 raise ValueError(\"Complex data not supported\\n\"\n",
      "\u001b[1;32mC:\\Program Files\\Anaconda3\\lib\\site-packages\\numpy\\core\\numeric.py\u001b[0m in \u001b[0;36masarray\u001b[1;34m(a, dtype, order)\u001b[0m\n\u001b[0;32m    536\u001b[0m \u001b[1;33m\u001b[0m\u001b[0m\n\u001b[0;32m    537\u001b[0m     \"\"\"\n\u001b[1;32m--> 538\u001b[1;33m     \u001b[1;32mreturn\u001b[0m \u001b[0marray\u001b[0m\u001b[1;33m(\u001b[0m\u001b[0ma\u001b[0m\u001b[1;33m,\u001b[0m \u001b[0mdtype\u001b[0m\u001b[1;33m,\u001b[0m \u001b[0mcopy\u001b[0m\u001b[1;33m=\u001b[0m\u001b[1;32mFalse\u001b[0m\u001b[1;33m,\u001b[0m \u001b[0morder\u001b[0m\u001b[1;33m=\u001b[0m\u001b[0morder\u001b[0m\u001b[1;33m)\u001b[0m\u001b[1;33m\u001b[0m\u001b[1;33m\u001b[0m\u001b[0m\n\u001b[0m\u001b[0;32m    539\u001b[0m \u001b[1;33m\u001b[0m\u001b[0m\n\u001b[0;32m    540\u001b[0m \u001b[1;33m\u001b[0m\u001b[0m\n",
      "\u001b[1;31mValueError\u001b[0m: could not convert string to float: 'A'"
     ]
    }
   ],
   "source": [
    "lm.fit(X_train,y_train)"
   ]
  },
  {
   "cell_type": "code",
   "execution_count": 36,
   "metadata": {},
   "outputs": [
    {
     "name": "stdout",
     "output_type": "stream",
     "text": [
      "<class 'pandas.core.frame.DataFrame'>\n",
      "Int64Index: 1533 entries, 1543 to 863\n",
      "Data columns (total 19 columns):\n",
      "CH/FE/DIAM              1533 non-null int64\n",
      "CH/FE/LINER/MAT         1533 non-null object\n",
      "CH/FE/ELEC/DES          1533 non-null int64\n",
      "CH/FE/ELEC/MAT          1533 non-null object\n",
      "CH/FE/GND/ACC           1533 non-null int64\n",
      "CH/FE/PROC/CONN/TYPE    1533 non-null object\n",
      "CH/FE/PROC/CONN/MAT     1533 non-null object\n",
      "CH/FE/USE/CERT          1533 non-null int64\n",
      "CH/FE/CAL/TYPE          1533 non-null object\n",
      "CH/FE/TEMP/RNG          1533 non-null int64\n",
      "CH/FE/DEV/ID/PLATE      1533 non-null object\n",
      "CH/FE/SIGN/CBL          1533 non-null int64\n",
      "CH/FE/EX/CERT           1533 non-null object\n",
      "CH/FE/PROT/CLASS        1533 non-null int64\n",
      "CH/FE/CBL/COND          1533 non-null object\n",
      "CH/FE/POWER             1533 non-null int64\n",
      "CH/FE/IN/OUT/SIGN       1533 non-null object\n",
      "CH/FE/CONF/DIAG/TYPE    1533 non-null int64\n",
      "CH/FEP311/DES/LEV       1533 non-null object\n",
      "dtypes: int64(9), object(10)\n",
      "memory usage: 239.5+ KB\n"
     ]
    }
   ],
   "source": [
    "X_train.info()"
   ]
  },
  {
   "cell_type": "code",
   "execution_count": null,
   "metadata": {},
   "outputs": [],
   "source": []
  }
 ],
 "metadata": {
  "kernelspec": {
   "display_name": "Python 3",
   "language": "python",
   "name": "python3"
  },
  "language_info": {
   "codemirror_mode": {
    "name": "ipython",
    "version": 3
   },
   "file_extension": ".py",
   "mimetype": "text/x-python",
   "name": "python",
   "nbconvert_exporter": "python",
   "pygments_lexer": "ipython3",
   "version": "3.7.3"
  }
 },
 "nbformat": 4,
 "nbformat_minor": 2
}
